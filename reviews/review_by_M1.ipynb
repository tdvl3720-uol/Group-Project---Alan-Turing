{
 "cells": [
  {
   "cell_type": "markdown",
   "metadata": {},
   "source": [
    "## Team Member 1 – Parsing Module\n",
    "\n",
    "Name: Elizaveta Danilchenko\n",
    "\n",
    "\n",
    "This is a notebook review of my work as the team member 1 of the **final group programming work**. \n",
    "I will review my own work on the parsing module of **Python quiz responses analysis**."
   ]
  },
  {
   "cell_type": "markdown",
   "metadata": {},
   "source": [
    "## extract_answers_sequence function\n",
    "\n",
    "Firstly, I wrote the **extract_answers_sequence** function that parses the respondent’s answers from the data provided into a structured sequence. It takes a path to a quiz answers text file as its input and outputs a list of 100 integers, where each number is either:\n",
    "\n",
    "1, 2, 3, 4 (corresponding to the answer marked by the respondent)\n",
    "\n",
    "0 (if the question was not answered)."
   ]
  },
  {
   "cell_type": "code",
   "execution_count": 26,
   "metadata": {},
   "outputs": [],
   "source": [
    "def extract_answers_sequence(file_path):\n",
    "\n",
    "    answers = []\n",
    "    with open(file_path, \"r\") as file:\n",
    "        lines = file.readlines()\n",
    "\n",
    "#Removing empty lines from the file\n",
    "\n",
    "    clean_lines = []\n",
    "    for line in lines:\n",
    "        line = line.strip()\n",
    "        if line != \"\":\n",
    "            clean_lines.append(line)\n",
    "\n",
    "#Adding the chosen answer to the answer List. 1 question is 5 lines  \n",
    "\n",
    "    for i in range(0, len(clean_lines), 5):\n",
    "        question_block = clean_lines[i:i+5]\n",
    "        chosen_answer = 0\n",
    "        for option in range(1, 5):\n",
    "            if \"[x]\" in question_block[option]:\n",
    "                chosen_answer = option\n",
    "        answers.append(chosen_answer)\n",
    "\n",
    "    return answers\n"
   ]
  },
  {
   "cell_type": "markdown",
   "metadata": {},
   "source": [
    "In order to ensure the function works correctly I will test on the answer file 18, and show the output demonstrating the extracted answers for the first 20 questions."
   ]
  },
  {
   "cell_type": "code",
   "execution_count": 27,
   "metadata": {},
   "outputs": [
    {
     "name": "stdout",
     "output_type": "stream",
     "text": [
      "[1, 2, 2, 4, 4, 3, 3, 1, 1, 2, 3, 4, 4, 3, 1, 1, 1, 2, 3, 4]\n"
     ]
    }
   ],
   "source": [
    "file_path = 'data/answers_respondent_17.txt'\n",
    "answers = extract_answers_sequence(file_path)\n",
    "print(answers[:20])"
   ]
  },
  {
   "cell_type": "markdown",
   "metadata": {},
   "source": []
  },
  {
   "cell_type": "markdown",
   "metadata": {},
   "source": [
    "## write_answers_sequence function\n",
    "\n",
    "Then I defined a **write_answers_sequence** function that saves the extracted earlier answer sequence for further use by writing \n",
    "to a text file named answers_list_respondent_n.txt. \n",
    "\n",
    "It taskes an **answer sequence**, which is a list of 100 integers, and the **respondent ID** (and integer) as its input. "
   ]
  },
  {
   "cell_type": "code",
   "execution_count": 28,
   "metadata": {},
   "outputs": [],
   "source": [
    "file_name = f'answers_list_respondent_{19}.txt'\n",
    "def write_answers_sequence(answers, respondent_id):\n",
    "    \n",
    "    with open(file_name, \"w\") as file:\n",
    "        for i in range(len(answers)):\n",
    "            file.write(str(answers[i]))\n",
    "            if i < len(answers) - 1:\n",
    "                file.write(\", \")"
   ]
  },
  {
   "cell_type": "markdown",
   "metadata": {},
   "source": [
    "\n",
    "Now, I will test this function by giving it the answer sequence from the above used file and wrting it into a new file called answers_list_respondent_19."
   ]
  },
  {
   "cell_type": "code",
   "execution_count": 29,
   "metadata": {},
   "outputs": [
    {
     "name": "stdout",
     "output_type": "stream",
     "text": [
      "Saved to answers_list_respondent_19.txt\n"
     ]
    }
   ],
   "source": [
    "write_answers_sequence(answers, 19)\n",
    "\n",
    "print(f'Saved to {file_name}')\n",
    "\n"
   ]
  },
  {
   "cell_type": "markdown",
   "metadata": {},
   "source": [
    "Both function work correctly on the example files, extarcting the answers and saving them into a new file in a clear and structured form.  \n",
    "The function are both modular and ready to be used by other team members in their coding parts of the group project."
   ]
  }
 ],
 "metadata": {
  "kernelspec": {
   "display_name": "Python 3",
   "language": "python",
   "name": "python3"
  },
  "language_info": {
   "codemirror_mode": {
    "name": "ipython",
    "version": 3
   },
   "file_extension": ".py",
   "mimetype": "text/x-python",
   "name": "python",
   "nbconvert_exporter": "python",
   "pygments_lexer": "ipython3",
   "version": "3.11.4"
  }
 },
 "nbformat": 4,
 "nbformat_minor": 2
}
